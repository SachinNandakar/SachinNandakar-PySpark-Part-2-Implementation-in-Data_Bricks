{
 "cells": [
  {
   "cell_type": "markdown",
   "id": "55d22de9",
   "metadata": {},
   "source": [
    "Data Bricks Session-8"
   ]
  },
  {
   "cell_type": "markdown",
   "id": "4f208f99",
   "metadata": {},
   "source": [
    "Create a Databricks cluster and import the dataset \"tips.csv\"\n"
   ]
  },
  {
   "cell_type": "code",
   "execution_count": null,
   "id": "4165bff3",
   "metadata": {},
   "outputs": [],
   "source": [
    "# File location and type\n",
    "file_location = \"/FileStore/tables/tips.csv\"\n",
    "file_type = \"csv\"\n",
    "\n",
    "# The applied options are for CSV files. For other file types, these will be ignored.\n",
    "df = spark.read.csv(file_location, header=True, inferSchema=True)"
   ]
  },
  {
   "cell_type": "code",
   "execution_count": null,
   "id": "99f382d2",
   "metadata": {},
   "outputs": [],
   "source": [
    "# Create a view or table\n",
    "df.show()"
   ]
  },
  {
   "cell_type": "code",
   "execution_count": null,
   "id": "a38d17df",
   "metadata": {},
   "outputs": [],
   "source": [
    "df.printSchema()"
   ]
  },
  {
   "cell_type": "code",
   "execution_count": null,
   "id": "2a9a82bf",
   "metadata": {},
   "outputs": [],
   "source": [
    "# Objective of the program: Perform Mutiple Regression \n",
    "# total_bill: Dependent Variable   # Rest all as Independent features/variables\n",
    "\n",
    "# Here first step is to convert the string type features into numerical using StringIndexer\n",
    "\n",
    "from pyspark.ml.feature import StringIndexer"
   ]
  },
  {
   "cell_type": "code",
   "execution_count": null,
   "id": "1c00dbf6",
   "metadata": {},
   "outputs": [],
   "source": [
    "# Use the StringIndexer function\n",
    "\n",
    "indexer = StringIndexer( inputCols = [\"sex\",\"smoker\",\"day\",\"time\"], outputCols = [\"sex_index\",\"smoke_index\",\"day_index\",\"time_index\"])\n",
    "df_index = indexer.fit(df).transform(df)"
   ]
  },
  {
   "cell_type": "code",
   "execution_count": null,
   "id": "c5eda287",
   "metadata": {},
   "outputs": [],
   "source": [
    "df_index.show()"
   ]
  },
  {
   "cell_type": "code",
   "execution_count": null,
   "id": "67f221d3",
   "metadata": {},
   "outputs": [],
   "source": [
    "df_index.printSchema()"
   ]
  },
  {
   "cell_type": "code",
   "execution_count": null,
   "id": "4f3b4a8e",
   "metadata": {},
   "outputs": [],
   "source": [
    "# Now include VectorAssembler to integrate all independent features\n",
    "\n",
    "from pyspark.ml.feature import VectorAssembler\n",
    "df_index.printSchema()"
   ]
  },
  {
   "cell_type": "code",
   "execution_count": null,
   "id": "36266ce1",
   "metadata": {},
   "outputs": [],
   "source": [
    "# Create a Independent_Features which integrate all input features\n",
    "feature_assembler = VectorAssembler( inputCols=[\"tip\",\"size\",\"sex_index\",\"smoke_index\",\"day_index\",\"time_index\"], outputCol=\"Independent_Features\")\n"
   ]
  },
  {
   "cell_type": "code",
   "execution_count": null,
   "id": "6455ef5d",
   "metadata": {},
   "outputs": [],
   "source": [
    "output = feature_assembler.transform(df_index)"
   ]
  },
  {
   "cell_type": "code",
   "execution_count": null,
   "id": "883361aa",
   "metadata": {},
   "outputs": [],
   "source": [
    "output.printSchema()"
   ]
  },
  {
   "cell_type": "code",
   "execution_count": null,
   "id": "d7ce9d45",
   "metadata": {},
   "outputs": [],
   "source": [
    "# Visualize the independent_Feature column\n",
    "\n",
    "output.select(\"Independent_Features\").show()"
   ]
  },
  {
   "cell_type": "code",
   "execution_count": null,
   "id": "c8a272ed",
   "metadata": {},
   "outputs": [],
   "source": [
    "final_reg_data = output.select(\"Independent_Features\",\"total_bill\")\n",
    "final_reg_data.printSchema()"
   ]
  },
  {
   "cell_type": "code",
   "execution_count": null,
   "id": "387d4319",
   "metadata": {},
   "outputs": [],
   "source": [
    "### Now perform the regression procedure\n",
    "\n",
    "from pyspark.ml.regression import LinearRegression\n",
    "\n",
    "# Train, test Split\n",
    "train_data, test_data = final_reg_data.randomSplit([0.80,0.20])\n",
    "\n",
    "regressor = LinearRegression(featuresCol=\"Independent_Features\", labelCol=\"total_bill\")\n",
    "regressor = regressor.fit(train_data)"
   ]
  },
  {
   "cell_type": "code",
   "execution_count": null,
   "id": "f2e154f6",
   "metadata": {},
   "outputs": [],
   "source": [
    "# Regressin coefficient values\n",
    "regressor.coefficients"
   ]
  },
  {
   "cell_type": "code",
   "execution_count": null,
   "id": "19845272",
   "metadata": {},
   "outputs": [],
   "source": [
    "# Regression Intercept Value\n",
    "regressor.intercept"
   ]
  },
  {
   "cell_type": "code",
   "execution_count": null,
   "id": "2aaac208",
   "metadata": {},
   "outputs": [],
   "source": [
    "# Prediction Results\n",
    "\n",
    "pred_res = regressor.evaluate(test_data)\n",
    "pred_res.predictions.show()"
   ]
  },
  {
   "cell_type": "code",
   "execution_count": null,
   "id": "b729d098",
   "metadata": {},
   "outputs": [],
   "source": [
    "# Performance Matrices\n",
    "pred_res.r2, pred_res.meanAbsoluteError, pred_res.meanSquaredError"
   ]
  },
  {
   "cell_type": "code",
   "execution_count": null,
   "id": "5227adee",
   "metadata": {},
   "outputs": [],
   "source": []
  }
 ],
 "metadata": {
  "kernelspec": {
   "display_name": "Python 3",
   "language": "python",
   "name": "python3"
  },
  "language_info": {
   "codemirror_mode": {
    "name": "ipython",
    "version": 3
   },
   "file_extension": ".py",
   "mimetype": "text/x-python",
   "name": "python",
   "nbconvert_exporter": "python",
   "pygments_lexer": "ipython3",
   "version": "3.8.10"
  }
 },
 "nbformat": 4,
 "nbformat_minor": 5
}
