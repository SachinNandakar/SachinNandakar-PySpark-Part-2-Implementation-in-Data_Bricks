{
 "cells": [
  {
   "cell_type": "code",
   "execution_count": null,
   "id": "69e54953",
   "metadata": {},
   "outputs": [],
   "source": [
    "# Data Bricks Introduction\n"
   ]
  },
  {
   "cell_type": "code",
   "execution_count": null,
   "id": "4d6273d9",
   "metadata": {},
   "outputs": [],
   "source": [
    "# The procedure includes registration as community user\n",
    "\n",
    "# Create a new cluster and import the data required and create a worksheet and build the model\n",
    "\n",
    "# Refer the Training Session 7 of Pyspark channel list"
   ]
  },
  {
   "cell_type": "code",
   "execution_count": null,
   "id": "ad89b364",
   "metadata": {},
   "outputs": [],
   "source": [
    "# File location and type\n",
    "file_location = \"/FileStore/tables/Test.csv\"\n",
    "file_type = \"csv\"\n",
    "\n",
    "# The applied options are for CSV files. For other file types, these will be ignored.\n",
    "df = spark.read.csv(file_location, header=True, inferSchema=True)"
   ]
  },
  {
   "cell_type": "code",
   "execution_count": null,
   "id": "d170c15d",
   "metadata": {},
   "outputs": [],
   "source": [
    "# Create a view or table\n",
    "df.show()\n",
    "\n",
    "df.printSchema()"
   ]
  },
  {
   "cell_type": "code",
   "execution_count": null,
   "id": "164a4d19",
   "metadata": {},
   "outputs": [],
   "source": []
  }
 ],
 "metadata": {
  "kernelspec": {
   "display_name": "Python 3",
   "language": "python",
   "name": "python3"
  },
  "language_info": {
   "codemirror_mode": {
    "name": "ipython",
    "version": 3
   },
   "file_extension": ".py",
   "mimetype": "text/x-python",
   "name": "python",
   "nbconvert_exporter": "python",
   "pygments_lexer": "ipython3",
   "version": "3.8.10"
  }
 },
 "nbformat": 4,
 "nbformat_minor": 5
}
